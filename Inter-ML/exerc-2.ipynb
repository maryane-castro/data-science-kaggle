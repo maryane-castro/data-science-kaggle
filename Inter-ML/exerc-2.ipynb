{
 "cells": [
  {
   "cell_type": "markdown",
   "metadata": {},
   "source": [
    "# Missing Values - Valores Ausentes"
   ]
  },
  {
   "cell_type": "markdown",
   "metadata": {},
   "source": [
    "## Class"
   ]
  },
  {
   "cell_type": "code",
   "execution_count": 2,
   "metadata": {},
   "outputs": [],
   "source": [
    "import pandas as pd\n",
    "from sklearn.model_selection import train_test_split\n",
    "from sklearn.ensemble import RandomForestRegressor\n",
    "from sklearn.metrics import mean_absolute_error"
   ]
  },
  {
   "cell_type": "code",
   "execution_count": 3,
   "metadata": {},
   "outputs": [],
   "source": [
    "# Load the data\n",
    "data = pd.read_csv('CSV/melb_data.csv')\n",
    "\n",
    "# Select target\n",
    "y = data.Price\n",
    "\n",
    "# To keep things simple, we'll use only numerical predictors\n",
    "melb_predictors = data.drop(['Price'], axis=1)\n",
    "X = melb_predictors.select_dtypes(exclude=['object'])\n",
    "\n",
    "# Divide data into training and validation subsets\n",
    "X_train, X_valid, y_train, y_valid = train_test_split(X, y, train_size=0.8, test_size=0.2, random_state=0)\n"
   ]
  },
  {
   "cell_type": "markdown",
   "metadata": {},
   "source": [
    "### score_dataset() - function to compare different missing values"
   ]
  },
  {
   "cell_type": "code",
   "execution_count": 4,
   "metadata": {},
   "outputs": [],
   "source": [
    "def score_dataset(X_train, X_valid, y_train, y_valid):\n",
    "    # n_estimators = representa o número de ARVORES *na* FLORESTA (ensemble) que o modelo irá construir.\n",
    "    model = RandomForestRegressor(n_estimators=10, random_state=0)\n",
    "    model.fit(X_train, y_train)\n",
    "    preds = model.predict(X_valid)\n",
    "    return mean_absolute_error(y_valid, preds)"
   ]
  },
  {
   "cell_type": "markdown",
   "metadata": {},
   "source": [
    "### FIRST - Drop Columns with Missing Values - Eliminar colunas com valores ausentes."
   ]
  },
  {
   "cell_type": "code",
   "execution_count": 5,
   "metadata": {},
   "outputs": [
    {
     "name": "stdout",
     "output_type": "stream",
     "text": [
      "MAE from Approach 1 (Drop columns with missing values):\n",
      "183550.22137772635\n"
     ]
    }
   ],
   "source": [
    "#cols_with_missing = [col for col in X_train.columns\n",
    "#                    if X_train[col].isnull().any()]\n",
    "\n",
    "cols_with_missing = []\n",
    "for col in X_train.columns:\n",
    "    if X_train[col].isnull().any():\n",
    "        cols_with_missing.append(col)\n",
    "\n",
    "\n",
    "#axis=1 - colunas\n",
    "#axis=0 - linhas\n",
    "\n",
    "\n",
    "reduced_X_train = X_train.drop(cols_with_missing, axis=1)\n",
    "reduced_X_valid = X_valid.drop(cols_with_missing, axis=1)\n",
    "\n",
    "print(\"MAE from Approach 1 (Drop columns with missing values):\")\n",
    "print(score_dataset(reduced_X_train, reduced_X_valid, y_train, y_valid))"
   ]
  },
  {
   "cell_type": "markdown",
   "metadata": {},
   "source": [
    "### Second - Inmputation - Imputação"
   ]
  },
  {
   "cell_type": "code",
   "execution_count": 6,
   "metadata": {},
   "outputs": [
    {
     "name": "stdout",
     "output_type": "stream",
     "text": [
      "MAE from Approach 2 (Imputation):\n",
      "179816.89508731329\n"
     ]
    }
   ],
   "source": [
    "from sklearn.impute import SimpleImputer\n",
    "\n",
    "# Imputação \n",
    "my_imputer = SimpleImputer()\n",
    "imputed_X_train = pd.DataFrame(my_imputer.fit_transform(X_train))\n",
    "imputed_X_valid = pd.DataFrame(my_imputer.fit_transform(X_valid))\n",
    "\n",
    "# Imputação removeu nomes de colunas;   coloque-os de volta \n",
    "imputed_X_train.columns = X_train.columns\n",
    "imputed_X_valid.columns = X_valid.columns\n",
    "\n",
    "\n",
    "print(\"MAE from Approach 2 (Imputation):\")\n",
    "print(score_dataset(imputed_X_train, imputed_X_valid, y_train, y_valid))"
   ]
  },
  {
   "cell_type": "markdown",
   "metadata": {},
   "source": [
    "### Third - Extension to Imputation - Extensão da Amputação"
   ]
  },
  {
   "cell_type": "code",
   "execution_count": 12,
   "metadata": {},
   "outputs": [
    {
     "name": "stdout",
     "output_type": "stream",
     "text": [
      "MAE from Approach 3 (An Extension to Imputation):\n",
      "178927.503183954\n"
     ]
    }
   ],
   "source": [
    "from sklearn.impute import SimpleImputer\n",
    "\n",
    "# cópia para evitar alterar os dados originais (ao imputar)\n",
    "cols_with_missing = []\n",
    "for col in X_train.columns:\n",
    "    if X_train[col].isnull().any():\n",
    "        cols_with_missing.append(col)\n",
    "\n",
    "X_train_plus = X_train.copy()\n",
    "X_valid_plus = X_valid.copy()\n",
    "\n",
    "\n",
    "for col in cols_with_missing:\n",
    "    X_train_plus[col + '_was_missing'] = X_train_plus[col].isnull()\n",
    "    X_valid_plus[col + '_was_missing'] = X_valid_plus[col].isnull()\n",
    "\n",
    "\n",
    "my_imputer = SimpleImputer()\n",
    "\n",
    "#fit_transform - usado para dodos treinamento\n",
    "#transform - usado para dados teste\n",
    "imputed_X_train_plus = pd.DataFrame(my_imputer.fit_transform(X_train_plus))\n",
    "imputed_X_valid_plus = pd.DataFrame(my_imputer.transform(X_valid_plus))\n",
    "\n",
    "\n",
    "# Imputação removeu nomes de colunas;  coloque-os de volta\n",
    "imputed_X_train_plus.columns = X_train_plus.columns\n",
    "imputed_X_valid_plus.columns = X_valid_plus.columns\n",
    "\n",
    "print(\"MAE from Approach 3 (An Extension to Imputation):\")\n",
    "print(score_dataset(imputed_X_train_plus, imputed_X_valid_plus, y_train, y_valid))"
   ]
  },
  {
   "cell_type": "code",
   "execution_count": 16,
   "metadata": {},
   "outputs": [
    {
     "name": "stdout",
     "output_type": "stream",
     "text": [
      "       Rooms  Distance  Postcode  Bedroom2  Bathroom  Car  Landsize  \\\n",
      "12167      1       5.0    3182.0       1.0       1.0  1.0       0.0   \n",
      "6524       2       8.0    3016.0       2.0       2.0  1.0     193.0   \n",
      "8413       3      12.6    3020.0       3.0       1.0  1.0     555.0   \n",
      "2919       3      13.0    3046.0       3.0       1.0  1.0     265.0   \n",
      "6043       3      13.3    3020.0       3.0       1.0  2.0     673.0   \n",
      "...      ...       ...       ...       ...       ...  ...       ...   \n",
      "13123      3       5.2    3056.0       3.0       1.0  2.0     212.0   \n",
      "3264       3      10.5    3081.0       3.0       1.0  1.0     748.0   \n",
      "9845       4       6.7    3058.0       4.0       2.0  2.0     441.0   \n",
      "10799      3      12.0    3073.0       3.0       1.0  1.0     606.0   \n",
      "2732       4       6.4    3011.0       4.0       2.0  1.0     319.0   \n",
      "\n",
      "       BuildingArea  YearBuilt  Lattitude  Longtitude  Propertycount  \n",
      "12167           NaN     1940.0  -37.85984   144.98670        13240.0  \n",
      "6524            NaN        NaN  -37.85800   144.90050         6380.0  \n",
      "8413            NaN        NaN  -37.79880   144.82200         3755.0  \n",
      "2919            NaN     1995.0  -37.70830   144.91580         8870.0  \n",
      "6043          673.0     1970.0  -37.76230   144.82720         4217.0  \n",
      "...             ...        ...        ...         ...            ...  \n",
      "13123           NaN        NaN  -37.77695   144.95785        11918.0  \n",
      "3264          101.0     1950.0  -37.74160   145.04810         2947.0  \n",
      "9845          255.0     2002.0  -37.73572   144.97256        11204.0  \n",
      "10799           NaN        NaN  -37.72057   145.02615        21650.0  \n",
      "2732          130.0     1915.0  -37.79430   144.88750         7570.0  \n",
      "\n",
      "[10864 rows x 12 columns]\n",
      "Car               49\n",
      "BuildingArea    5156\n",
      "YearBuilt       4307\n",
      "dtype: int64\n"
     ]
    }
   ],
   "source": [
    "# Forma dos dados de treinamento (num_rows, num_columns)\n",
    "#print(X_train.shape)\n",
    "print(X_train)\n",
    "\n",
    "\n",
    "# Número de valores ausentes em cada coluna de dados de treinamento \n",
    "missing_val_count_by_column = (X_train.isnull().sum())\n",
    "print(missing_val_count_by_column[missing_val_count_by_column > 0])\n",
    "\n"
   ]
  },
  {
   "cell_type": "markdown",
   "metadata": {},
   "source": [
    "## Exercise: Missing Values"
   ]
  },
  {
   "cell_type": "code",
   "execution_count": 21,
   "metadata": {},
   "outputs": [],
   "source": [
    "import pandas as pd\n",
    "from sklearn.model_selection import train_test_split\n",
    "\n",
    "# Ler arquivos\n",
    "X_full = pd.read_csv('CSV/home-data-for-ml-course/train.csv', index_col='Id')\n",
    "X_test_full = pd.read_csv('CSV/home-data-for-ml-course/test.csv', index_col='Id')\n",
    "\n",
    "# Remova linhas com destino ausente, separe o alvo dos preditores\n",
    "X_full.dropna(axis=0, subset=['SalePrice'], inplace=True)\n",
    "y = X_full.SalePrice\n",
    "X_full.drop(['SalePrice'], axis=1, inplace=True)\n",
    "\n",
    "# Para simplificar, usaremos apenas preditores numéricos\n",
    "X = X_full.select_dtypes(exclude=['object'])\n",
    "X_test = X_test_full.select_dtypes(exclude=['object'])\n",
    "\n",
    "# Break off validation set from training data\n",
    "X_train, X_valid, y_train, y_valid = train_test_split(X, y, train_size=0.8, test_size=0.2, random_state=0)"
   ]
  }
 ],
 "metadata": {
  "kernelspec": {
   "display_name": "data",
   "language": "python",
   "name": "python3"
  },
  "language_info": {
   "codemirror_mode": {
    "name": "ipython",
    "version": 3
   },
   "file_extension": ".py",
   "mimetype": "text/x-python",
   "name": "python",
   "nbconvert_exporter": "python",
   "pygments_lexer": "ipython3",
   "version": "3.12.0"
  }
 },
 "nbformat": 4,
 "nbformat_minor": 2
}
