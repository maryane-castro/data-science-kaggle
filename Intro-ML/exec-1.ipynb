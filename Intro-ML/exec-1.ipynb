{
 "cells": [
  {
   "cell_type": "markdown",
   "metadata": {},
   "source": [
    "# Exercise: Explore Your Data"
   ]
  },
  {
   "cell_type": "code",
   "execution_count": 3,
   "metadata": {},
   "outputs": [],
   "source": [
    "import pandas as pd"
   ]
  },
  {
   "cell_type": "markdown",
   "metadata": {},
   "source": [
    "### Read CSV file"
   ]
  },
  {
   "cell_type": "code",
   "execution_count": null,
   "metadata": {},
   "outputs": [],
   "source": [
    "file_one = 'CSV/exerc-1/train.csv'\n",
    "file_two = 'CSV/exerc-1/melb_data.csv'\n",
    "\n",
    "home_data = pd.read_csv(file_one)  # escolha o arquivo (file_1 or file_2)\n",
    "print(home_data)"
   ]
  },
  {
   "cell_type": "markdown",
   "metadata": {},
   "source": [
    "### Summary statistics about the CSV file"
   ]
  },
  {
   "cell_type": "code",
   "execution_count": null,
   "metadata": {},
   "outputs": [],
   "source": [
    "summary_statistics = home_data.describe()  # resumo sobre as estátiscas do arquivo csv\n",
    "summary_statistics"
   ]
  },
  {
   "cell_type": "markdown",
   "metadata": {},
   "source": [
    "### Information about some fields in the table"
   ]
  },
  {
   "cell_type": "code",
   "execution_count": null,
   "metadata": {},
   "outputs": [],
   "source": [
    "# tamanho médio área do lote\n",
    "lot_Area = round(home_data['LotArea'].mean())  # função mean() calcula a média aritmética\n",
    "lot_Area \n",
    "\n",
    "# a partir de hoje, quantos anos tem a casa mais nova (ano atual - a data em que foi construída)\n",
    " \n",
    "import datetime\n",
    "today = datetime.datetime.now().year  #ano atual\n",
    "print(today)\n",
    "\n",
    "newest_house = home_data['YearBuilt'].max()  #casa mais nova do banco de dados\n",
    "print(newest_house)\n",
    "\n",
    "difference_year = today - newest_house\n",
    "difference_year\n"
   ]
  }
 ],
 "metadata": {
  "kernelspec": {
   "display_name": "data",
   "language": "python",
   "name": "python3"
  },
  "language_info": {
   "codemirror_mode": {
    "name": "ipython",
    "version": 3
   },
   "file_extension": ".py",
   "mimetype": "text/x-python",
   "name": "python",
   "nbconvert_exporter": "python",
   "pygments_lexer": "ipython3",
   "version": "3.12.0"
  }
 },
 "nbformat": 4,
 "nbformat_minor": 2
}
